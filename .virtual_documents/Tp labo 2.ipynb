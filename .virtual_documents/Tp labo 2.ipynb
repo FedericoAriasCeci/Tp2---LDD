import pandas as pd
import seaborn as sns
import seaborn.objects as so
import numpy as np
from sklearn.model_selection import train_test_split
from sklearn.model_selection import GridSearchCV
from sklearn.neighbors import KNeighborsClassifier
from sklearn.model_selection import LeaveOneOut
from sklearn.cluster import KMeans
from sklearn.preprocessing import StandardScaler


data_raw = pd.read_csv("FBRef2020-21.csv")


data_proc = (data_raw.query("Min >= 500")
             .drop(columns = [column for column in data_raw.columns if data_raw[column].isna().sum() > 100]))

display(data_proc[data_proc.isna().sum(axis=1) != 0])

display(data_proc.loc[313].isna().sum())
display(data_proc.loc[1190].isna().sum())
display(data_proc.loc[2525].isna().sum())
display(data_proc.loc[2525].isna().sort_values())


data_proc = data_proc.drop(index=[313,1190,2525]).reset_index()


data_num = data_proc.drop(columns = [col for col in data_proc.columns if data_proc[col].dtype not in ['float64','int64']])
data_num = data_num.drop(columns = data_num.columns.tolist()[:data_num.columns.tolist().index('Ast/90')])






data_procesada = data_num.drop(columns=[col for col in data_num.columns if col not in ["Shots/90","npxG/90"]])
(
    so.Plot(data= data_procesada, x= "Shots/90", y= "npxG/90")
    .add(so.Dot())
)


X_star = StandardScaler().set_output(transform="pandas").fit_transform(data_num)

X_star_t = np.transpose(X_star)
N = len(X_star)
Sigma = (X_star_t @ X_star) / N


gamma, U = np.linalg.eigh(Sigma)

gamma_flip = np.flip(gamma)
U = np.flip(U, 1)
display(gamma_flip)


Z = X_star @ U 
Z.columns = ["Z" + str(i) for i in range(1,104)]


kmeans = KMeans (n_clusters = 2)

etiquetas = kmeans.fit_predict(data_num).astype(str)

(
    so.Plot()
    .add(so.Dot(), data = Z, x = "Z1", y = "Z2", color = etiquetas)
    .layout(size=(12,8))
)








data_clasif = data_proc.drop(columns = [col for col in data_proc.columns if data_proc[col].dtype not in ['float64','int64']])
data_clasif = data_clasif.drop(columns = data_num.columns.tolist()[:data_num.columns.tolist().index('Ast/90')]).join(data_proc['Pos'].apply(lambda x: x.split(',')[0])).rename(columns = {'Pos': 'Pos_filt'})

X_train, X_test, y_train, y_test = train_test_split(data_num, data_clasif['Pos_filt'], test_size=0.2, random_state=42)

clsf = GridSearchCV(estimator = KNeighborsClassifier(),param_grid={'n_neighbors':[2,3,4,5,6,7,8,9,10,11,12,13,14,15,16,17,18,19,20]}, cv = LeaveOneOut(), verbose=1)
clsf.fit(X_train,y_train)


model = KNeighborsClassifier(n_neighbors = 8)
model.fit(X_train,y_train)
score = model.score(X_test, y_test)
print(score)










